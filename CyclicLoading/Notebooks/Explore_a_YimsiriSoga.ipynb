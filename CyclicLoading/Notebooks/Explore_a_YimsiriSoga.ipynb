{
 "cells": [
  {
   "cell_type": "markdown",
   "metadata": {},
   "source": [
    "# Exploring parameter \"a\" according to Yimsiri and Soga (2010)"
   ]
  },
  {
   "cell_type": "markdown",
   "metadata": {},
   "source": [
    "The aim of this notebook is to calculate parameter \"a\" as described in Yimsiri and Soga (2010) using the Fabrictensor and the Eigenvalues. <br>\n",
    "The packing structure of spherical particles can be discribed using the fabric tensor. The load transfer of the assembly is strongly dependant on contact orientations. The force tensor in the contact normal was calculated for contacts with contact force > 0: <br>\n",
    "$F_{ij}=\\frac{1}{N_c}\\sum\\limits _{N_c} ^{} n_i n_j$\n",
    "<br>\n",
    "Yimsiri and Soga (2010) defined parameter \"a\" that represents the corss-aniisotropic fabric condtion of the fabric tensor with a single parameter. \n",
    "$F_{ij} = \\begin{pmatrix} \\frac{3a-5}{5(a-3)} & 0 & 0\\\\ 0 & \\frac{3a-5}{5(a-3)} & 0\\\\ 0 & 0 & \\frac{-(5+a)}{5(a-3)} \\end{pmatrix}$\n",
    "- a>0, the contact normal of the particles in the assebly tend to coordinate in the vertical direction \n",
    "- a<0, the contact normal of the particles in the assebly tend to coordinate in the hoizontal direction"
   ]
  },
  {
   "cell_type": "code",
   "execution_count": null,
   "metadata": {},
   "outputs": [],
   "source": [
    "# Import Libraries\n",
    "import warnings\n",
    "warnings.filterwarnings('ignore')\n",
    "\n",
    "import re\n",
    "import os\n",
    "import pandas as pd\n",
    "import numpy as np\n",
    "import matplotlib.pyplot as plt\n",
    "from sympy import symbols, Eq, solve\n",
    "\n",
    "from basicFunctions.get_fabric_tensor import get_fabric_tensor_cn"
   ]
  },
  {
   "cell_type": "code",
   "execution_count": null,
   "metadata": {},
   "outputs": [],
   "source": [
    "# FIGURE\n",
    "# Define Plot Fontsizes\n",
    "TF = 18     # Text font\n",
    "LGF = 12   # Legend Font Size\n",
    "LBF = 12    # Label Font Size\n",
    "TS = 12     # Tick Size\n",
    "lw1 = 3\n",
    "\n",
    "# Defining Path\n",
    "path = r'F:\\CyclicLoading\\Cyclicmean\\TX300_FC0p25to0p25_amp60\\merged_data\\SortedData\\0_StartingPos\\contact'"
   ]
  },
  {
   "cell_type": "markdown",
   "metadata": {},
   "source": [
    "## Function for parameter \"a\""
   ]
  },
  {
   "cell_type": "code",
   "execution_count": null,
   "metadata": {},
   "outputs": [],
   "source": [
    "def get_a_yimsiri_soga(CNfabrictensor: np.array) -> float:\n",
    "    \"\"\"\n",
    "    This function defines a as defined in Yimsiri and Soga (2010)\n",
    "    DEM analysis of soil fabric effects on behaviour of sand\n",
    "    \"\"\"\n",
    "    # Getting Eigenvalues from fabric tensor\n",
    "    EigenValues = np.linalg.eig(CNfabrictensor)\n",
    "    EigenValues = EigenValues[0] # Only want the eigenvalues and not the associated eigenvectors\n",
    "    \n",
    "    # Solvig using Fabric tensor \n",
    "    a11 = symbols('a11')\n",
    "    a12 = symbols('a12')\n",
    "    a13 = symbols('a13')\n",
    "    eq11 = Eq((3*a11-5)/(5*(a11-3))-CNfabrictensor[0,0])\n",
    "    eq12 = Eq((3*a12-5)/(5*(a12-3))-CNfabrictensor[1,1])\n",
    "    eq13 = Eq((-(5+a13))/(5*(a13-3))-CNfabrictensor[2,2])\n",
    "    \n",
    "    # Equations using eigenvalues \n",
    "    a21 = symbols('a21')\n",
    "    a22 = symbols('a22')\n",
    "    a23 = symbols('a23')   \n",
    "    eq21 = Eq((3*a21-5)/(5*(a21-3))-EigenValues[0])\n",
    "    eq22 = Eq((3*a22-5)/(5*(a22-3))-EigenValues[1])\n",
    "    eq23 = Eq((-(5+a23))/(5*(a23-3))-EigenValues[2])\n",
    "    \n",
    "    # Solving equations for a\n",
    "    a_val11 = solve(eq11)[0]\n",
    "    a_val12 = solve(eq12)[0]\n",
    "    a_val13 = solve(eq13)[0]\n",
    "\n",
    "    a_val21 = solve(eq21)[0]\n",
    "    a_val22 = solve(eq22)[0]\n",
    "    a_val23 = solve(eq23)[0]\n",
    "    \n",
    "    # Getting average value of a\n",
    "    a1 = (a_val11 + a_val12 + a_val13)/3\n",
    "    a2 = (a_val21 + a_val22 +  a_val23)/3\n",
    "\n",
    "    return a1, a2, CNfabrictensor, EigenValues"
   ]
  },
  {
   "cell_type": "markdown",
   "metadata": {},
   "source": [
    "## Processing Data "
   ]
  },
  {
   "cell_type": "code",
   "execution_count": null,
   "metadata": {},
   "outputs": [],
   "source": [
    "# Getting names and step number of contact dump files form selected directory \n",
    "os.chdir(path)\n",
    "\n",
    "contact_files = os.listdir()\n",
    "\n",
    "step_number = []\n",
    "for contact_file in contact_files:\n",
    "    step_number.append(re.findall('\\d+', contact_file))\n",
    "step_number = [int(step[0]) for step in step_number] # Convert string to integer\n",
    "\n",
    "yimsiri_soga_a_value = pd.DataFrame(data = {'file_name':contact_files, 'step_number':step_number})\n",
    "yimsiri_soga_a_value = yimsiri_soga_a_value.sort_values(by = ['step_number'], ascending = True)"
   ]
  },
  {
   "cell_type": "code",
   "execution_count": null,
   "metadata": {},
   "outputs": [],
   "source": [
    "# Initiating lists\n",
    "a_FTmean = []\n",
    "a_EVmean = []\n",
    "fabrictensor1 = []\n",
    "fabrictensor2 = []\n",
    "fabrictensor3 = []\n",
    "eigenval1 = []\n",
    "eigenval2 = []\n",
    "eigenval3 = []\n",
    "\n",
    "# Iterating trough dump files\n",
    "for contact_file in yimsiri_soga_a_value.file_name:\n",
    "\n",
    "    # Loading contact file\n",
    "    contact_data = pd.read_csv(\n",
    "            contact_file,\n",
    "            skiprows = 9,\n",
    "            delimiter = ' ',\n",
    "            index_col = False,\n",
    "            header = None\n",
    "        )\n",
    "\n",
    "    # Getting Fabric Tensor\n",
    "    CNfabrictensor = get_fabric_tensor_cn(contact_data)\n",
    "\n",
    "    # Getting mean a\n",
    "    a_FT, a_EV, CNfabrictensor, EigenValues = get_a_yimsiri_soga(CNfabrictensor)\n",
    "    \n",
    "    # Appending to list \n",
    "    a_FTmean.append(a_FT)\n",
    "    a_EVmean.append(a_EV)\n",
    "    fabrictensor1.append(CNfabrictensor[0,0])\n",
    "    fabrictensor2.append(CNfabrictensor[1,1])\n",
    "    fabrictensor3.append(CNfabrictensor[2,2])\n",
    "    eigenval1.append(EigenValues[0])\n",
    "    eigenval2.append(EigenValues[1])\n",
    "    eigenval3.append(EigenValues[2])"
   ]
  },
  {
   "cell_type": "code",
   "execution_count": null,
   "metadata": {},
   "outputs": [],
   "source": [
    "# Adding values to df \n",
    "yimsiri_soga_a_value['a_FTmean'] = a_FTmean\n",
    "yimsiri_soga_a_value['a_EVmean'] = a_EVmean\n",
    "yimsiri_soga_a_value['eigenvalue1'] = eigenval1\n",
    "yimsiri_soga_a_value['eigenvalue2'] = eigenval2\n",
    "yimsiri_soga_a_value['eigenvalue3'] = eigenval3\n",
    "yimsiri_soga_a_value['fabrictensor1'] = fabrictensor1\n",
    "yimsiri_soga_a_value['fabrictensor2'] = fabrictensor2\n",
    "yimsiri_soga_a_value['fabrictensor3'] = fabrictensor3\n",
    "\n",
    "yimsiri_soga_a_value.insert(0, 'cycle_number', np.arange(0,len(yimsiri_soga_a_value)))"
   ]
  },
  {
   "cell_type": "markdown",
   "metadata": {},
   "source": [
    "## Visualizing "
   ]
  },
  {
   "cell_type": "code",
   "execution_count": null,
   "metadata": {},
   "outputs": [],
   "source": [
    "yimsiri_soga_a_value.head(20)"
   ]
  },
  {
   "cell_type": "markdown",
   "metadata": {},
   "source": [
    "### Parameter \"a\""
   ]
  },
  {
   "cell_type": "code",
   "execution_count": null,
   "metadata": {},
   "outputs": [],
   "source": [
    "plt.figure(figsize = (15,7))\n",
    "plt.subplot(1,2,1)\n",
    "plt.plot(yimsiri_soga_a_value.cycle_number,yimsiri_soga_a_value.a_FTmean, color = 'purple', lw = 2)\n",
    "plt.xlabel('Cycle number (N)', fontsize = LBF)\n",
    "plt.ylabel('a value from Yimsiri & Soga (2010)', fontsize = LBF)\n",
    "plt.gca().tick_params(which='major', labelsize=TS)\n",
    "plt.title('\"a\" using fabrictensor')\n",
    "plt.xlim(0,)\n",
    "plt.grid()\n",
    "\n",
    "plt.subplot(1,2,2)\n",
    "plt.plot(yimsiri_soga_a_value.cycle_number,yimsiri_soga_a_value.a_EVmean, color = 'darkcyan', lw = 2)\n",
    "plt.xlabel('Cycle number (N)', fontsize = LBF)\n",
    "plt.ylabel('a value from Yimsiri & Soga (2010)', fontsize = LBF)\n",
    "plt.gca().tick_params(which='major', labelsize=TS)\n",
    "plt.title('\"a\" using eigenvalues')\n",
    "plt.xlim(0,)\n",
    "plt.grid()\n",
    "\n",
    "plt.subplots_adjust(left=None, bottom=None, right=None, top=None, wspace=0.5, hspace=0.5)"
   ]
  },
  {
   "cell_type": "markdown",
   "metadata": {},
   "source": [
    "While calcualting parameter \"a\" according to Yimsiri and Soga using the fabrictensor and the eigenvalues some major jumps in \"a\" can be observed.  "
   ]
  },
  {
   "cell_type": "markdown",
   "metadata": {},
   "source": [
    "### Fabrictensor and Eigenvalues"
   ]
  },
  {
   "cell_type": "code",
   "execution_count": null,
   "metadata": {},
   "outputs": [],
   "source": [
    "plt.figure(figsize = (15,7))\n",
    "plt.subplot(1,2,1)\n",
    "plt.plot(yimsiri_soga_a_value.cycle_number,yimsiri_soga_a_value.fabrictensor1, color = 'purple', lw = 2, ls = ':', label = 'fabrictensor[0,0]')\n",
    "plt.plot(yimsiri_soga_a_value.cycle_number,yimsiri_soga_a_value.fabrictensor2, color = 'purple', lw = 2, ls = '--', label = 'fabrictensor[1,1]')\n",
    "plt.plot(yimsiri_soga_a_value.cycle_number,yimsiri_soga_a_value.fabrictensor3, color = 'purple', lw = 2, label = 'fabrictensor[2,2]')\n",
    "plt.legend(loc = 'center right')\n",
    "plt.xlabel('Cycle number (N)', fontsize = LBF)\n",
    "plt.ylabel('a value from Yimsiri & Soga (2010)', fontsize = LBF)\n",
    "plt.gca().tick_params(which='major', labelsize=TS)\n",
    "plt.title('\"a\" using fabrictensor')\n",
    "plt.xlim(0,)\n",
    "plt.grid()\n",
    "\n",
    "plt.subplot(1,2,2)\n",
    "plt.plot(yimsiri_soga_a_value.cycle_number,yimsiri_soga_a_value.eigenvalue1, color = 'darkcyan', lw = 2, ls = ':', label = 'eigenvalue[0]')\n",
    "plt.plot(yimsiri_soga_a_value.cycle_number,yimsiri_soga_a_value.eigenvalue2, color = 'darkcyan', lw = 2, ls = '--', label = 'eigenvalue[1]')\n",
    "plt.plot(yimsiri_soga_a_value.cycle_number,yimsiri_soga_a_value.eigenvalue3, color = 'darkcyan', lw = 2, label = 'eigenvalue[2]')\n",
    "plt.legend(loc = 'center right')\n",
    "plt.xlabel('Cycle number (N)', fontsize = LBF)\n",
    "plt.ylabel('a value from Yimsiri & Soga (2010)', fontsize = LBF)\n",
    "plt.gca().tick_params(which='major', labelsize=TS)\n",
    "plt.title('\"a\" using eigenvalues')\n",
    "plt.xlim(0,)\n",
    "plt.grid()\n",
    "\n",
    "plt.subplots_adjust(left=None, bottom=None, right=None, top=None, wspace=0.5, hspace=0.5)"
   ]
  },
  {
   "cell_type": "markdown",
   "metadata": {},
   "source": [
    "From the above figure its is clear that eigenvalues are not in oder where a in the major direction should be eigenvalue[2]"
   ]
  },
  {
   "cell_type": "code",
   "execution_count": null,
   "metadata": {},
   "outputs": [],
   "source": [
    "CNfabrictensor"
   ]
  },
  {
   "cell_type": "markdown",
   "metadata": {},
   "source": [
    "The fabric tensor for the last contact dump file demonstartes that the values that are nor located along the diagonal are small. <br>\n",
    "Therefore, it should be ok to use the fabric tensor to calculate parameter \"a\". <br>\n",
    "An alternative would be to sort the eigen values."
   ]
  },
  {
   "cell_type": "markdown",
   "metadata": {},
   "source": [
    "## Alternative\n",
    "This alternative consisted in sorting the eigenvalues. <br>\n",
    "However, this alternative did not work. "
   ]
  },
  {
   "cell_type": "code",
   "execution_count": null,
   "metadata": {},
   "outputs": [],
   "source": [
    "def get_a_yimsiri_soga_sorted(CNfabrictensor: np.array) -> float:\n",
    "    \"\"\"\n",
    "    This function defines a as defined in Yimsiri and Soga (2010)\n",
    "    DEM analysis of soil fabric effects on behaviour of sand\n",
    "    \"\"\"\n",
    "    # Getting Eigenvalues from fabric tensor\n",
    "    EigenValues = np.linalg.eig(CNfabrictensor)\n",
    "    EigenValues = EigenValues[0] # Only want the eigenvalues and not the associated eigenvectors\n",
    "    EigenValues = np.sort(EigenValues)\n",
    "    \n",
    "    # Equations using eigenvalues \n",
    "    a1 = symbols('a1')\n",
    "    a2 = symbols('a2')\n",
    "    a3 = symbols('a3')   \n",
    "    eq1 = Eq((3*a1-5)/(5*(a1-3))-EigenValues[0])\n",
    "    eq2 = Eq((3*a2-5)/(5*(a2-3))-EigenValues[1])\n",
    "    eq3 = Eq((-(5+a3))/(5*(a3-3))-EigenValues[2])\n",
    "    \n",
    "    # Solving equations for a\n",
    "    a_val1 = solve(eq1)[0]\n",
    "    a_val2 = solve(eq2)[0]\n",
    "    a_val3 = solve(eq3)[0]\n",
    "    \n",
    "    # Getting average value of a\n",
    "    a_EVsorted = (a_val1 + a_val2 + a_val3)/3\n",
    "\n",
    "    return a_EVsorted"
   ]
  },
  {
   "cell_type": "code",
   "execution_count": null,
   "metadata": {},
   "outputs": [],
   "source": [
    "a_EVsorted = []\n",
    "\n",
    "# Iterating trough dump files\n",
    "for contact_file in yimsiri_soga_a_value.file_name:\n",
    "\n",
    "    # Loading contact file\n",
    "    contact_data = pd.read_csv(\n",
    "            contact_file,\n",
    "            skiprows = 9,\n",
    "            delimiter = ' ',\n",
    "            index_col = False,\n",
    "            header = None\n",
    "        )\n",
    "\n",
    "    # Getting Fabric Tensor\n",
    "    CNfabrictensor = get_fabric_tensor_cn(contact_data)\n",
    "\n",
    "    # Getting mean a\n",
    "    a_EV2 = get_a_yimsiri_soga_sorted(CNfabrictensor)\n",
    "    \n",
    "    # Appending to list \n",
    "    a_EVsorted.append(a_EV2)\n",
    "\n",
    "yimsiri_soga_a_value['a_EVsorted'] = a_EVsorted"
   ]
  },
  {
   "cell_type": "code",
   "execution_count": null,
   "metadata": {},
   "outputs": [],
   "source": [
    "plt.figure(figsize = (7,7))\n",
    "plt.plot(yimsiri_soga_a_value.cycle_number,yimsiri_soga_a_value.a_EVsorted, color = 'black', lw = 2)\n",
    "plt.xlabel('Cycle number (N)', fontsize = LBF)\n",
    "plt.ylabel('a value from Yimsiri & Soga (2010)', fontsize = LBF)\n",
    "plt.gca().tick_params(which='major', labelsize=TS)\n",
    "plt.title('\"a\" using sorted eigenvalues')\n",
    "plt.xlim(0,)\n",
    "plt.grid()"
   ]
  }
 ],
 "metadata": {
  "kernelspec": {
   "display_name": "Python 3 (ipykernel)",
   "language": "python",
   "name": "python3"
  },
  "language_info": {
   "codemirror_mode": {
    "name": "ipython",
    "version": 3
   },
   "file_extension": ".py",
   "mimetype": "text/x-python",
   "name": "python",
   "nbconvert_exporter": "python",
   "pygments_lexer": "ipython3",
   "version": "3.10.6"
  }
 },
 "nbformat": 4,
 "nbformat_minor": 4
}
